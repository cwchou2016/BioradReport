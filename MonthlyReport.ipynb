{
 "cells": [
  {
   "cell_type": "code",
   "execution_count": 1,
   "metadata": {},
   "outputs": [],
   "source": [
    "import pandas as pd\n",
    "import numpy as np"
   ]
  },
  {
   "cell_type": "code",
   "execution_count": 2,
   "metadata": {},
   "outputs": [
    {
     "data": {
      "text/plain": [
       "'1.4.2'"
      ]
     },
     "execution_count": 2,
     "metadata": {},
     "output_type": "execute_result"
    }
   ],
   "source": [
    "pd.__version__"
   ]
  },
  {
   "cell_type": "code",
   "execution_count": 3,
   "metadata": {},
   "outputs": [],
   "source": [
    "df = pd.read_xml(\"p:/PrintOut_StatReportForExport.xml\", xpath=\"//IHComTable\")\n",
    "\n",
    "# qc only\n",
    "qc_df = df[df['SampleBarcode'].str.contains(\"QC\")]\n",
    "qc_df = qc_df.copy()\n",
    "qc_df['BGText'] = qc_df['BGText'].fillna(\"\")\n",
    "qc_df['BGTextABScrDAT'] = qc_df['BGTextABScrDAT'].fillna(\"\")\n",
    "# remove not interpretable\n",
    "qc_df = qc_df[~(qc_df['BGText'].str.contains(\"not\"))]\n",
    "qc_df = qc_df[~(qc_df['BGTextABScrDAT'].str.contains(\"not\"))]"
   ]
  },
  {
   "cell_type": "code",
   "execution_count": 4,
   "metadata": {},
   "outputs": [],
   "source": [
    "group = qc_df.groupby(['SampleBarcode','TestDate'])\n"
   ]
  },
  {
   "cell_type": "code",
   "execution_count": 5,
   "metadata": {},
   "outputs": [],
   "source": [
    "sample_df_list=[]\n",
    "\n",
    "for key in group.groups.keys():\n",
    "    sample_df = group.get_group(key).set_index(\"WellName\")\n",
    "    sample_result_series = sample_df.FinalResultText\n",
    "    \n",
    "    sample_df['ResultText'] = sample_df['BGText']+sample_df['BGTextABScrDAT']\n",
    "    sample_info_series = sample_df.iloc[0][['TestDate','SampleBarcode','VerifiedByUser', 'ResultText']]\n",
    "\n",
    "    sample_df_list.append(pd.DataFrame(pd.concat([sample_info_series, sample_result_series])).T)\n",
    "    "
   ]
  },
  {
   "cell_type": "code",
   "execution_count": 6,
   "metadata": {
    "scrolled": false
   },
   "outputs": [],
   "source": [
    "result_df = pd.concat(sample_df_list)\n",
    "result_df=result_df[~result_df['VerifiedByUser'].isna()]\n",
    "result_df.fillna(\"\", inplace=True)\n",
    "result_df = result_df.replace(\"DP\", np.nan).dropna()\n",
    "result_df.set_index(\"TestDate\", inplace=True)\n",
    "\n",
    "result_df.sort_index(inplace=True)"
   ]
  },
  {
   "cell_type": "code",
   "execution_count": 10,
   "metadata": {},
   "outputs": [],
   "source": [
    "f_name = pd.Timestamp.now().strftime('%Y%m%d_%H%M')\n",
    "result_df.to_excel(f\"F:/Printer/QC_{f_name}.xlsx\")"
   ]
  },
  {
   "cell_type": "code",
   "execution_count": null,
   "metadata": {},
   "outputs": [],
   "source": [
    "print(result_df)"
   ]
  },
  {
   "cell_type": "code",
   "execution_count": null,
   "metadata": {},
   "outputs": [],
   "source": []
  },
  {
   "cell_type": "code",
   "execution_count": null,
   "metadata": {},
   "outputs": [],
   "source": []
  }
 ],
 "metadata": {
  "kernelspec": {
   "display_name": "biorad",
   "language": "python",
   "name": "biorad"
  },
  "language_info": {
   "codemirror_mode": {
    "name": "ipython",
    "version": 3
   },
   "file_extension": ".py",
   "mimetype": "text/x-python",
   "name": "python",
   "nbconvert_exporter": "python",
   "pygments_lexer": "ipython3",
   "version": "3.8.13"
  }
 },
 "nbformat": 4,
 "nbformat_minor": 4
}
