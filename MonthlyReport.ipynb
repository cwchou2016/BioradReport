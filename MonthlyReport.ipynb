{
 "cells": [
  {
   "cell_type": "code",
   "execution_count": 1,
   "metadata": {},
   "outputs": [],
   "source": [
    "import pandas as pd\n",
    "import numpy as np"
   ]
  },
  {
   "cell_type": "code",
   "execution_count": 2,
   "metadata": {},
   "outputs": [
    {
     "data": {
      "text/plain": [
       "'1.4.2'"
      ]
     },
     "execution_count": 2,
     "metadata": {},
     "output_type": "execute_result"
    }
   ],
   "source": [
    "pd.__version__"
   ]
  },
  {
   "cell_type": "code",
   "execution_count": 3,
   "metadata": {},
   "outputs": [],
   "source": [
    "try:\n",
    "    df = pd.read_xml(\"p:/PrintOut_StatReportForExport.xml\", xpath=\"//IHComTable\")\n",
    "except:\n",
    "    df = pd.read_xml(\"PrintOut_StatReportForExport.xml\", xpath=\"//IHComTable\")"
   ]
  },
  {
   "cell_type": "code",
   "execution_count": 4,
   "metadata": {},
   "outputs": [],
   "source": [
    "# qc only\n",
    "qc_df = df[df['SampleBarcode'].str.contains(\"QC\")]\n",
    "qc_df = qc_df.copy()\n",
    "qc_df['BGText'] = qc_df['BGText'].fillna(\"\")\n",
    "qc_df['BGTextABScrDAT'] = qc_df['BGTextABScrDAT'].fillna(\"\")\n",
    "# remove not interpretable\n",
    "qc_df = qc_df[~(qc_df['BGText'].str.contains(\"not\"))]\n",
    "qc_df = qc_df[~(qc_df['BGTextABScrDAT'].str.contains(\"not\"))]"
   ]
  },
  {
   "cell_type": "code",
   "execution_count": 5,
   "metadata": {},
   "outputs": [],
   "source": [
    "group = qc_df.groupby(['SampleBarcode','TestDate'])\n"
   ]
  },
  {
   "cell_type": "code",
   "execution_count": 6,
   "metadata": {},
   "outputs": [],
   "source": [
    "sample_df_list=[]\n",
    "\n",
    "for key in group.groups.keys():\n",
    "    sample_df = group.get_group(key).set_index(\"WellName\")\n",
    "    sample_result_series = sample_df.FinalResultText\n",
    "    \n",
    "    sample_df['ResultText'] = sample_df['BGText']+sample_df['BGTextABScrDAT']\n",
    "    sample_info_series = sample_df.iloc[0][['TestDate','SampleBarcode','VerifiedByUser', 'ResultText']]\n",
    "\n",
    "    sample_df_list.append(pd.DataFrame(pd.concat([sample_info_series, sample_result_series])).T)\n",
    "    "
   ]
  },
  {
   "cell_type": "code",
   "execution_count": 7,
   "metadata": {
    "scrolled": false
   },
   "outputs": [],
   "source": [
    "result_df = pd.concat(sample_df_list)\n",
    "result_df=result_df[~result_df['VerifiedByUser'].isna()]\n",
    "result_df.fillna(\"\", inplace=True)\n",
    "result_df = result_df.replace(\"DP\", np.nan).dropna()\n",
    "result_df.set_index(\"TestDate\", inplace=True)\n",
    "\n",
    "result_df.sort_index(inplace=True)"
   ]
  },
  {
   "cell_type": "code",
   "execution_count": 8,
   "metadata": {},
   "outputs": [],
   "source": [
    "f_name = pd.Timestamp.now().strftime('%Y%m%d_%H%M')\n",
    "\n",
    "try:\n",
    "    result_df.to_excel(f\"F:/Printer/QC_{f_name}.xlsx\")\n",
    "except OSError:\n",
    "    result_df.to_excel(f\"QC_{f_name}.xlsx\")\n",
    "    "
   ]
  },
  {
   "cell_type": "code",
   "execution_count": 9,
   "metadata": {},
   "outputs": [
    {
     "name": "stdout",
     "output_type": "stream",
     "text": [
      "                                  SampleBarcode          VerifiedByUser  \\\n",
      "TestDate                                                                  \n",
      "2022-03-01T00:43:44.599+08:00  08710671220307QC  automatically accepted   \n",
      "2022-03-01T00:43:55.609+08:00  08720671220307QC  automatically accepted   \n",
      "2022-03-01T00:44:23.131+08:00  08720671220307QC  automatically accepted   \n",
      "2022-03-01T00:44:23.185+08:00  08770671220307QC  automatically accepted   \n",
      "2022-03-01T00:44:30.952+08:00  08710671220307QC  automatically accepted   \n",
      "...                                         ...                     ...   \n",
      "2022-03-31T22:30:39.736+08:00  08710691220404QC  automatically accepted   \n",
      "2022-03-31T22:30:51.395+08:00  08720691220404QC  automatically accepted   \n",
      "2022-03-31T22:31:03.767+08:00  08720691220404QC  automatically accepted   \n",
      "2022-03-31T22:31:12.059+08:00  08710691220404QC  automatically accepted   \n",
      "2022-03-31T22:31:12.21+08:00   08720691220404QC  automatically accepted   \n",
      "\n",
      "                                    ResultText Anti-A Anti-B Anti-D VI- Ctl  \\\n",
      "TestDate                                                                      \n",
      "2022-03-01T00:43:44.599+08:00  A Rh D negative   ++++      -          -   -   \n",
      "2022-03-01T00:43:55.609+08:00  B Rh D positive      -   ++++       ++++   -   \n",
      "2022-03-01T00:44:23.131+08:00     DAT negative                                \n",
      "2022-03-01T00:44:23.185+08:00     DAT positive                                \n",
      "2022-03-01T00:44:30.952+08:00     ABS positive                                \n",
      "...                                        ...    ...    ...        ...  ..   \n",
      "2022-03-31T22:30:39.736+08:00  A Rh D negative   ++++      -          -   -   \n",
      "2022-03-31T22:30:51.395+08:00  B Rh D positive      -   ++++       ++++   -   \n",
      "2022-03-31T22:31:03.767+08:00     DAT negative                                \n",
      "2022-03-31T22:31:12.059+08:00     ABS positive                                \n",
      "2022-03-31T22:31:12.21+08:00      ABS positive                                \n",
      "\n",
      "                                 A1     B    I   II  III DAT poly IgG C3d  \n",
      "TestDate                                                                   \n",
      "2022-03-01T00:43:44.599+08:00     -  ++++                                  \n",
      "2022-03-01T00:43:55.609+08:00  ++++     -                                  \n",
      "2022-03-01T00:44:23.131+08:00                                   -          \n",
      "2022-03-01T00:44:23.185+08:00                                 +++          \n",
      "2022-03-01T00:44:30.952+08:00              +++   ++   ++                   \n",
      "...                             ...   ...  ...  ...  ...      ...  ..  ..  \n",
      "2022-03-31T22:30:39.736+08:00     -  ++++                                  \n",
      "2022-03-31T22:30:51.395+08:00  ++++     -                                  \n",
      "2022-03-31T22:31:03.767+08:00                                   -          \n",
      "2022-03-31T22:31:12.059+08:00              +++  +++  +++                   \n",
      "2022-03-31T22:31:12.21+08:00                ++  +++  +++                   \n",
      "\n",
      "[343 rows x 15 columns]\n"
     ]
    }
   ],
   "source": [
    "print(result_df)"
   ]
  },
  {
   "cell_type": "code",
   "execution_count": null,
   "metadata": {},
   "outputs": [],
   "source": []
  },
  {
   "cell_type": "code",
   "execution_count": null,
   "metadata": {},
   "outputs": [],
   "source": []
  }
 ],
 "metadata": {
  "kernelspec": {
   "display_name": "biorad",
   "language": "python",
   "name": "biorad"
  },
  "language_info": {
   "codemirror_mode": {
    "name": "ipython",
    "version": 3
   },
   "file_extension": ".py",
   "mimetype": "text/x-python",
   "name": "python",
   "nbconvert_exporter": "python",
   "pygments_lexer": "ipython3",
   "version": "3.8.13"
  }
 },
 "nbformat": 4,
 "nbformat_minor": 4
}
