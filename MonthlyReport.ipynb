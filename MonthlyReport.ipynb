{
 "cells": [
  {
   "cell_type": "code",
   "execution_count": 1,
   "metadata": {},
   "outputs": [],
   "source": [
    "import pandas as pd\n",
    "import numpy as np"
   ]
  },
  {
   "cell_type": "code",
   "execution_count": 2,
   "metadata": {},
   "outputs": [
    {
     "data": {
      "text/plain": [
       "'1.4.2'"
      ]
     },
     "execution_count": 2,
     "metadata": {},
     "output_type": "execute_result"
    }
   ],
   "source": [
    "pd.__version__"
   ]
  },
  {
   "cell_type": "code",
   "execution_count": 3,
   "metadata": {},
   "outputs": [],
   "source": [
    "try:\n",
    "    df = pd.read_xml(\"p:/PrintOut_StatReportForExport.xml\", xpath=\"//IHComTable\")\n",
    "except:\n",
    "    df = pd.read_xml(\"PrintOut_StatReportForExport.xml\", xpath=\"//IHComTable\")\n",
    "\n",
    "    \n",
    "now_string = pd.Timestamp.now().strftime('%Y%m%d_%H%M')\n",
    "\n",
    "try:\n",
    "    df.to_excel(f\"F:/Printer/ALL_{now_string}.xlsx\")\n",
    "except OSError:\n",
    "    df.to_excel(f\"ALL_{now_string}.xlsx\")"
   ]
  },
  {
   "cell_type": "code",
   "execution_count": 4,
   "metadata": {},
   "outputs": [],
   "source": [
    "# qc only\n",
    "qc_df = df[df['SampleBarcode'].str.contains(\"QC\")]\n",
    "qc_df = qc_df.copy()\n",
    "qc_df['BGText'] = qc_df['BGText'].fillna(\"\")\n",
    "qc_df['BGTextABScrDAT'] = qc_df['BGTextABScrDAT'].fillna(\"\")\n",
    "# remove not interpretable\n",
    "qc_df = qc_df[~(qc_df['BGText'].str.contains(\"not\"))]\n",
    "qc_df = qc_df[~(qc_df['BGTextABScrDAT'].str.contains(\"not\"))]"
   ]
  },
  {
   "cell_type": "code",
   "execution_count": 5,
   "metadata": {},
   "outputs": [],
   "source": [
    "group = qc_df.groupby(['SampleBarcode','TestDate'])\n"
   ]
  },
  {
   "cell_type": "code",
   "execution_count": 6,
   "metadata": {},
   "outputs": [],
   "source": [
    "sample_df_list=[]\n",
    "\n",
    "for key in group.groups.keys():\n",
    "    sample_df = group.get_group(key).set_index(\"WellName\")\n",
    "    sample_result_series = sample_df.FinalResultText\n",
    "    \n",
    "    sample_df['ResultText'] = sample_df['BGText']+sample_df['BGTextABScrDAT']\n",
    "    sample_info_series = sample_df.iloc[0][['TestDate','SampleBarcode','VerifiedByUser', 'ResultText']]\n",
    "\n",
    "    sample_df_list.append(pd.DataFrame(pd.concat([sample_info_series, sample_result_series])).T)\n",
    "    "
   ]
  },
  {
   "cell_type": "code",
   "execution_count": 7,
   "metadata": {
    "scrolled": false
   },
   "outputs": [],
   "source": [
    "result_df = pd.concat(sample_df_list)\n",
    "result_df=result_df[~result_df['VerifiedByUser'].isna()]\n",
    "result_df.fillna(\"\", inplace=True)\n",
    "result_df = result_df.replace(\"DP\", np.nan).dropna()\n",
    "result_df.set_index(\"TestDate\", inplace=True)\n",
    "\n",
    "result_df.sort_index(inplace=True)\n",
    "result_df.reset_index(inplace=True)"
   ]
  },
  {
   "cell_type": "code",
   "execution_count": 8,
   "metadata": {},
   "outputs": [],
   "source": [
    "\n",
    "\n",
    "try:\n",
    "    result_df.to_excel(f\"F:/Printer/QC_{now_string}.xlsx\")\n",
    "except OSError:\n",
    "    result_df.to_excel(f\"QC_{now_string}.xlsx\")\n",
    "    "
   ]
  },
  {
   "cell_type": "code",
   "execution_count": 9,
   "metadata": {},
   "outputs": [
    {
     "name": "stdout",
     "output_type": "stream",
     "text": [
      "                          TestDate     SampleBarcode          VerifiedByUser  \\\n",
      "0     2022-04-01T00:37:13.06+08:00  08710691220404QC  automatically accepted   \n",
      "1    2022-04-01T00:37:37.144+08:00  08720691220404QC                  150948   \n",
      "2    2022-04-01T00:37:37.221+08:00  08770691220404QC  automatically accepted   \n",
      "3    2022-04-01T00:37:46.055+08:00  08710691220404QC  automatically accepted   \n",
      "4    2022-04-01T00:37:46.234+08:00  08720691220404QC                  150948   \n",
      "..                             ...               ...                     ...   \n",
      "287  2022-04-30T00:37:58.332+08:00  08720711220502QC  automatically accepted   \n",
      "288  2022-04-30T00:38:10.292+08:00  08720711220502QC  automatically accepted   \n",
      "289  2022-04-30T00:38:10.376+08:00  08770711220502QC  automatically accepted   \n",
      "290  2022-04-30T00:38:19.108+08:00  08710711220502QC  automatically accepted   \n",
      "291   2022-04-30T00:38:34.08+08:00  08720711220502QC  automatically accepted   \n",
      "\n",
      "          ResultText Anti-A Anti-B Anti-D VI- Ctl    A1     B    I   II  III  \\\n",
      "0    A Rh D negative   ++++      -          -   -     -  ++++                  \n",
      "1       DAT negative                                                           \n",
      "2       DAT positive                                                           \n",
      "3       ABS positive                                           +++   ++   ++   \n",
      "4       ABS positive                                            ++   ++  +++   \n",
      "..               ...    ...    ...        ...  ..   ...   ...  ...  ...  ...   \n",
      "287  B Rh D positive      -   ++++        +++   -  ++++     -                  \n",
      "288     DAT negative                                                           \n",
      "289     DAT positive                                                           \n",
      "290     ABS positive                                           +++   ++   ++   \n",
      "291     ABS positive                                           +++  +++  +++   \n",
      "\n",
      "    DAT poly IgG C3d  \n",
      "0                     \n",
      "1          -          \n",
      "2        +++          \n",
      "3                     \n",
      "4                     \n",
      "..       ...  ..  ..  \n",
      "287                   \n",
      "288        -          \n",
      "289      +++          \n",
      "290                   \n",
      "291                   \n",
      "\n",
      "[292 rows x 16 columns]\n"
     ]
    }
   ],
   "source": [
    "print(result_df)"
   ]
  },
  {
   "cell_type": "code",
   "execution_count": 10,
   "metadata": {},
   "outputs": [],
   "source": [
    "result_html = result_df.to_html(index=False)"
   ]
  },
  {
   "cell_type": "code",
   "execution_count": 11,
   "metadata": {},
   "outputs": [],
   "source": [
    "start_date = result_df['TestDate'].apply(pd.to_datetime).min().strftime('%Y/%m/%d')\n",
    "end_date  = result_df['TestDate'].apply(pd.to_datetime).max().strftime('%Y/%m/%d')\n",
    "\n",
    "title = f\"{start_date}-{end_date}\""
   ]
  },
  {
   "cell_type": "code",
   "execution_count": 18,
   "metadata": {},
   "outputs": [],
   "source": [
    "html_string = '''\n",
    "\n",
    "<!DOCTYPE html>\n",
    "<html>\n",
    "<head>\n",
    "<title>{title}</title>\n",
    "\n",
    "{style}\n",
    "\n",
    "\n",
    "</head>\n",
    "<body>\n",
    "\n",
    "<h1>成大醫院 病理部 血庫組 IH-500 品管報表</h1>\n",
    "\n",
    "{result}\n",
    "\n",
    "<footer>\n",
    "      <p>組長:_________________________</p>\n",
    "</footer>\n",
    "\n",
    "</body>\n",
    "</html>\n",
    "\n",
    "'''\n",
    "\n",
    "# print footer\n",
    "'''\n",
    "\t@media print {\n",
    "\t  footer {\n",
    "\t\tposition: fixed;\n",
    "\t\tbottom: -15px;\n",
    "\t\tright: 30px;\n",
    "\t\twidth:100%\n",
    "\t\tborder: 1px solid red;\n",
    "\t\tfont-size: 15px;\n",
    "\t\tfont-family: DFKai-sb;\n",
    "\t  }\n",
    "       .content-block, p {\n",
    "\t\tpage-break-inside: avoid;\n",
    "\t  }\n",
    "\t}\n",
    "    \n",
    "'''\n",
    "        \n",
    "style_string='''\n",
    "<style>\n",
    "\tfooter {\n",
    "\t  font-size: 16px;\n",
    "\t  font-family: DFKai-sb;\n",
    "\t  color: black;\n",
    "\t  text-align: right;\n",
    "\t}  \n",
    "\t\n",
    "\n",
    "\n",
    "\n",
    "\t \n",
    "    \n",
    "\ttable, th, td{\n",
    "\t\tborder: 0;\n",
    "\t}\n",
    "    \n",
    "    h1 {\n",
    "\t\ttext-align:center;\n",
    "\t\tfont-family:DFKai-sb;\n",
    "\t\tfont-size: 20px;\n",
    "\t}\n",
    "\t\n",
    "\t.dataframe {\n",
    "\t\twidth: 100%;\n",
    "\t\tfont-family: calibri;\n",
    "\t\tfont-size: 10px;\n",
    "\t\tborder-bottom: 2px solid black;\n",
    "\t\tborder-top: 2px solid black;\n",
    "\t}\n",
    "\t\n",
    "\t.dataframe th{\n",
    "\t\tborder-bottom: 1px solid black;\n",
    "\t\ttext-align: center;\n",
    "\t}\n",
    "\t\n",
    "\t.dataframe td:nth-child(-n+4){\n",
    "\t\ttext-align: left;\n",
    "\t}\n",
    "\t\n",
    "\t.dataframe td{\n",
    "\t\ttext-align: center;\n",
    "\t}\n",
    "\t\n",
    "\t.dataframe tr:nth-child(even){\n",
    "\t\tbackground-color: #f2f2f2;\n",
    "\t}\n",
    "\t\n",
    "</style>\n",
    "'''"
   ]
  },
  {
   "cell_type": "code",
   "execution_count": 19,
   "metadata": {},
   "outputs": [],
   "source": [
    "with open(\"res.html\", \"w\") as f:\n",
    "     f.write(html_string.format(result=result_html,\n",
    "                               style=style_string,\n",
    "                               title=title))\n",
    "    \n"
   ]
  },
  {
   "cell_type": "code",
   "execution_count": null,
   "metadata": {},
   "outputs": [],
   "source": []
  },
  {
   "cell_type": "code",
   "execution_count": null,
   "metadata": {},
   "outputs": [],
   "source": []
  },
  {
   "cell_type": "code",
   "execution_count": null,
   "metadata": {},
   "outputs": [],
   "source": []
  }
 ],
 "metadata": {
  "kernelspec": {
   "display_name": "biorad",
   "language": "python",
   "name": "biorad"
  },
  "language_info": {
   "codemirror_mode": {
    "name": "ipython",
    "version": 3
   },
   "file_extension": ".py",
   "mimetype": "text/x-python",
   "name": "python",
   "nbconvert_exporter": "python",
   "pygments_lexer": "ipython3",
   "version": "3.8.13"
  }
 },
 "nbformat": 4,
 "nbformat_minor": 4
}
